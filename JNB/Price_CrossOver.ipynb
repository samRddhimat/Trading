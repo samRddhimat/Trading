{
 "cells": [
  {
   "cell_type": "markdown",
   "id": "19c4cc6a-93c6-4d47-80f0-da247c5c18a9",
   "metadata": {},
   "source": [
    "## This code finds crossover of a particular rate across a period of time"
   ]
  },
  {
   "cell_type": "code",
   "execution_count": null,
   "id": "9193b36e-b0e0-41a2-a9ab-2c6110f2ccc1",
   "metadata": {},
   "outputs": [],
   "source": [
    "import pandas as pd\n",
    "import MetaTrader5 as mt5\n",
    "import matplotlib.pyplot as plt\n",
    "from datetime import datetime, timedelta\n",
    "import pytz\n"
   ]
  },
  {
   "cell_type": "code",
   "execution_count": null,
   "id": "f465b063-a32b-4025-8354-3a7e5fd12bc0",
   "metadata": {},
   "outputs": [],
   "source": [
    "\n",
    "try:\n",
    "    mt5.shutdown()\n",
    "except Exception as e:\n",
    "    print(e)\n",
    "\n",
    "# --- Parameters ---\n",
    "symbol = \"XAUUSDm\"\n",
    "timeframe = mt5.TIMEFRAME_M30  # Options: TIMEFRAME_M1, M5, H1, D1, etc.\n",
    "threshold = 3325.535\n",
    "bars = 500  # number of historical bars\n",
    "\n",
    "# --- Initialize MT5 ---\n",
    "if not mt5.initialize():\n",
    "    raise RuntimeError(\"initialize() failed\")\n",
    "\n",
    "# Ensure symbol is available\n",
    "if not mt5.symbol_select(symbol, True):\n",
    "    raise RuntimeError(f\"Failed to select symbol {symbol}\")\n",
    "\n",
    "# --- Get historical data ---\n",
    "rates = mt5.copy_rates_from_pos(symbol, timeframe, 0, bars)\n",
    "\n",
    "timezone = pytz.timezone(\"Etc/UTC\")\n",
    "date_to = datetime.now(timezone)\n",
    "# print(date_to)\n",
    "date_from = date_to - timedelta(days=50)\n",
    "range_rates = mt5.copy_rates_range(symbol, timeframe, date_from, date_to)\n",
    "df_range_rates = pd.DataFrame(range_rates)\n",
    "# print(df_range_rates.shape)\n",
    "\n",
    "if rates is None:\n",
    "    raise RuntimeError(\"No data returned\")\n",
    "\n",
    "# --- Convert to DataFrame ---\n",
    "df = pd.DataFrame(range_rates) #rates)\n",
    "df['time'] = pd.to_datetime(df['time'], unit='s')\n",
    "\n",
    "# --- Filter by Close price ---\n",
    "filtered = df[df['close'] > threshold]\n",
    "print(filtered.shape)\n",
    "# filtered['Profit'] = filtered['close'] - threshold * 0.1\n",
    "# filtered.loc[filtered['close'] > 0.0 ,'Profit'] = (filtered['close'] - threshold) * (0.1*10.0)\n",
    "print(filtered.shape)\n",
    "# print(filtered)\n",
    "\n",
    "# --- Display filtered data ---\n",
    "print(filtered[['time', 'close']])\n",
    "\n",
    "# --- Plot ---\n",
    "plt.figure(figsize=(12, 6))\n",
    "# Plot price line\n",
    "plt.plot(df['time'], df['close'], label='Close Price')\n",
    "# Plot red dots\n",
    "plt.scatter(filtered['time'], filtered['close'], color='red', label=f'> {threshold}', zorder=5)\n",
    "\n",
    "# --- Annotate each red dot ---\n",
    "for idx, row in filtered.iterrows():\n",
    "    time = row['time']\n",
    "    price = row['close']\n",
    "    profit = (price - threshold) * 0.1 \n",
    "    profit = profit *10.0\n",
    "    label_y = min(price-2,price + y_offset)\n",
    "    \n",
    "    # Add annotation with slight offset\n",
    "    plt.annotate(f\"{profit :.2f}\", (time, label_y),\n",
    "                 textcoords=\"offset points\", xytext=(0,10), ha='center',\n",
    "                 fontsize=8, color='darkred', rotation=45)\n",
    "    # plt.annotate(price, (time, price),\n",
    "    #              textcoords=\"offset points\", xytext=(0,10), ha='center',\n",
    "    #              fontsize=8, color='darkred', rotation=45)\n",
    "\n",
    "''' Add vertical/horizontal lines for reference (optional) '''\n",
    "# plt.axvline(x=order_time, color='gray', linestyle='--', linewidth=1)\n",
    "# plt.axhline(y=threshold, color='gray', linestyle='--', linewidth=1)\n",
    "# plt.xlim(filtered['time'].min(), filtered['time'].max())\n",
    "# plt.ylim(min(filtered['close'].min(), threshold) * 0.99, max(filtered['close'].max(), threshold) * 1.01)\n",
    "\n",
    "# Add marker\n",
    "order_time = datetime(2025, 7, 29, 9, 56)\n",
    "plt.scatter(order_time, threshold, color='green', marker='X', s=100, label='Order Point', zorder=5)\n",
    "plt.annotate(f\"{threshold:.4f}\",\n",
    "             (order_time, threshold),\n",
    "             textcoords=\"offset points\",\n",
    "             xytext=(0, 10),\n",
    "             ha='center',\n",
    "             fontsize=9,\n",
    "             color='green')\n",
    "\n",
    "# Final layout\n",
    "plt.xlabel(\"Time\")\n",
    "plt.ylabel(\"Price\")\n",
    "plt.title(f\"{symbol} Close Prices (>={threshold})\")\n",
    "plt.legend()\n",
    "plt.grid(True)\n",
    "plt.tight_layout()\n",
    "plt.show()\n",
    "\n",
    "# --- Shutdown MT5 connection ---\n",
    "mt5.shutdown()\n"
   ]
  },
  {
   "cell_type": "code",
   "execution_count": null,
   "id": "a7d6446b-d446-4454-8e98-71e3b11e0819",
   "metadata": {},
   "outputs": [],
   "source": [
    "filtered['dateseries'] = filtered['time'].dt.date\n",
    "filtered"
   ]
  },
  {
   "cell_type": "code",
   "execution_count": null,
   "id": "bb1f82d9-9371-42e3-8ceb-b807d7c95e58",
   "metadata": {},
   "outputs": [],
   "source": [
    "filtered.shape"
   ]
  },
  {
   "cell_type": "code",
   "execution_count": null,
   "id": "98cb960f-e495-44d1-902a-5bd04bc000af",
   "metadata": {},
   "outputs": [],
   "source": [
    "# Keep the first row per unique date\n",
    "dedup = filtered.drop_duplicates(subset='dateseries',keep='first')"
   ]
  },
  {
   "cell_type": "code",
   "execution_count": null,
   "id": "4f753920-b9eb-4177-bc74-36d68ab4f565",
   "metadata": {},
   "outputs": [],
   "source": [
    "print(dedup.shape)"
   ]
  },
  {
   "cell_type": "code",
   "execution_count": null,
   "id": "7e025dc3-5b1a-4d29-8e95-ae699db645ee",
   "metadata": {},
   "outputs": [],
   "source": [
    "dedup"
   ]
  }
 ],
 "metadata": {
  "kernelspec": {
   "display_name": "Python [conda env:env_anaconda]",
   "language": "python",
   "name": "conda-env-env_anaconda-py"
  },
  "language_info": {
   "codemirror_mode": {
    "name": "ipython",
    "version": 3
   },
   "file_extension": ".py",
   "mimetype": "text/x-python",
   "name": "python",
   "nbconvert_exporter": "python",
   "pygments_lexer": "ipython3",
   "version": "3.13.5"
  }
 },
 "nbformat": 4,
 "nbformat_minor": 5
}
